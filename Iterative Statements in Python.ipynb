{
 "cells": [
  {
   "cell_type": "markdown",
   "metadata": {},
   "source": [
    "## Iterative statement: In programming iterative statement is a statement which repeats multiple no of times until a condition is evaluated to false.\n",
    "\n",
    "1. For loop\n",
    "2. While loop\n",
    "\n",
    "- Indefinite loop: is aloop which we dont know how many no of times it is going to execute\n",
    "- definite loop: is a loop which we know how many no of times it is going to execute.\n",
    "\n",
    "1 2 3 4 5\n",
    "\n",
    "The three statements which are used to control the loop:\n",
    "\n",
    "1. Break\n",
    "2. Continue\n",
    "3. Pass\n",
    "\n",
    "- Break: It will break the execution or stop the execution of a loop once the condition given is satisfied.\n",
    "\n",
    "- Continue: It will continue and it will not stop the execution of a llop once the condition is satisfied.\n",
    "\n",
    "- Pass: It is a statement which will allow the execution of a line of code when the logic is not written\n",
    "\n",
    "\n",
    "\n",
    "- range(): this function is used to iterate or loop over a range of numbers.\n",
    "\n",
    "- a. start\n",
    "- b. stop\n",
    "- c. step value"
   ]
  },
  {
   "cell_type": "code",
   "execution_count": 1,
   "metadata": {},
   "outputs": [
    {
     "name": "stdout",
     "output_type": "stream",
     "text": [
      "0\n",
      "1\n",
      "2\n",
      "3\n",
      "4\n",
      "5\n",
      "6\n",
      "7\n",
      "8\n",
      "9\n",
      "10\n"
     ]
    }
   ],
   "source": [
    "## For loop \n",
    "## Syntax: for <alias name> in iterable or a string:\n",
    "                #print(<alias name>)\n",
    "    \n",
    "## If i Want to print first 10 numbers from 0 to 10\n",
    "\n",
    "for rohit in range(11):\n",
    "    print(rohit)"
   ]
  },
  {
   "cell_type": "code",
   "execution_count": 3,
   "metadata": {},
   "outputs": [
    {
     "name": "stdout",
     "output_type": "stream",
     "text": [
      "0\n",
      "1\n",
      "2\n",
      "3\n",
      "4\n"
     ]
    }
   ],
   "source": [
    "## Break, continue and pass statement \n",
    "\n",
    "for rohit in range(11):\n",
    "    if rohit == 5:\n",
    "        break\n",
    "    print(rohit)"
   ]
  },
  {
   "cell_type": "code",
   "execution_count": 4,
   "metadata": {},
   "outputs": [
    {
     "name": "stdout",
     "output_type": "stream",
     "text": [
      "0\n",
      "1\n",
      "2\n",
      "3\n",
      "4\n",
      "6\n",
      "7\n",
      "8\n",
      "9\n",
      "10\n"
     ]
    }
   ],
   "source": [
    "## continue\n",
    "for rohit in range(11):\n",
    "    if rohit == 5:\n",
    "        continue\n",
    "    print(rohit)"
   ]
  },
  {
   "cell_type": "code",
   "execution_count": 16,
   "metadata": {},
   "outputs": [],
   "source": [
    "## pass\n",
    "for rohit in range(11):\n",
    "    pass"
   ]
  },
  {
   "cell_type": "code",
   "execution_count": 8,
   "metadata": {},
   "outputs": [
    {
     "name": "stdout",
     "output_type": "stream",
     "text": [
      "0\n",
      "1\n",
      "2\n",
      "3\n",
      "4\n"
     ]
    }
   ],
   "source": [
    "# for loop with start and stop value\n",
    "for rohit in range(0,11):\n",
    "    if rohit == 5:\n",
    "        break\n",
    "    print(rohit)"
   ]
  },
  {
   "cell_type": "code",
   "execution_count": 10,
   "metadata": {},
   "outputs": [
    {
     "name": "stdout",
     "output_type": "stream",
     "text": [
      "0\n",
      "1\n",
      "2\n",
      "3\n",
      "4\n",
      "6\n",
      "7\n",
      "8\n",
      "9\n",
      "10\n"
     ]
    }
   ],
   "source": [
    "for rohit in range(0,11):\n",
    "    if rohit == 5:\n",
    "        continue\n",
    "    print(rohit)"
   ]
  },
  {
   "cell_type": "code",
   "execution_count": 17,
   "metadata": {},
   "outputs": [
    {
     "name": "stdout",
     "output_type": "stream",
     "text": [
      "0\n",
      "2\n",
      "4\n",
      "6\n",
      "8\n",
      "10\n"
     ]
    }
   ],
   "source": [
    "for rohit in range(0,11,2):\n",
    "    #if rohit == 5:\n",
    "        #break\n",
    "        print(rohit)"
   ]
  },
  {
   "cell_type": "code",
   "execution_count": 13,
   "metadata": {},
   "outputs": [],
   "source": [
    "## While Loop\n",
    "            #<alias name> = value\n",
    "## Syntax : while <alias name> < value:\n",
    "                    #print(<alias name>)\n",
    "                    # <alias name>+=1"
   ]
  },
  {
   "cell_type": "code",
   "execution_count": 14,
   "metadata": {},
   "outputs": [
    {
     "name": "stdout",
     "output_type": "stream",
     "text": [
      "0\n",
      "1\n",
      "2\n",
      "3\n",
      "4\n",
      "5\n",
      "6\n",
      "7\n",
      "8\n",
      "9\n",
      "10\n"
     ]
    }
   ],
   "source": [
    "a=0\n",
    "while a<11:\n",
    "    print(a)\n",
    "    a+=1\n",
    "    "
   ]
  },
  {
   "cell_type": "code",
   "execution_count": null,
   "metadata": {},
   "outputs": [],
   "source": []
  }
 ],
 "metadata": {
  "kernelspec": {
   "display_name": "Python 3",
   "language": "python",
   "name": "python3"
  },
  "language_info": {
   "codemirror_mode": {
    "name": "ipython",
    "version": 3
   },
   "file_extension": ".py",
   "mimetype": "text/x-python",
   "name": "python",
   "nbconvert_exporter": "python",
   "pygments_lexer": "ipython3",
   "version": "3.7.6"
  }
 },
 "nbformat": 4,
 "nbformat_minor": 4
}
